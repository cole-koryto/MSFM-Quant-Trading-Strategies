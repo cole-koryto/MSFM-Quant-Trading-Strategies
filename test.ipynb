{
 "cells": [
  {
   "metadata": {
    "ExecuteTime": {
     "end_time": "2025-10-08T18:30:18.498663Z",
     "start_time": "2025-10-08T18:30:16.063776Z"
    }
   },
   "cell_type": "code",
   "source": "import pandas as pd",
   "id": "e652bb3e799f3529",
   "outputs": [],
   "execution_count": 2
  },
  {
   "metadata": {
    "collapsed": true,
    "ExecuteTime": {
     "end_time": "2025-10-08T18:31:46.921219Z",
     "start_time": "2025-10-08T18:31:46.896836Z"
    }
   },
   "cell_type": "code",
   "source": [
    "price_df = pd.read_parquet(\"./data/^SPX.parquet\")\n",
    "\n",
    "price_df[\"return\"] = price_df[\"Price\"].pct_change()\n",
    "test_data = price_df.iloc[-10:]\n",
    "print(price_df.tail())\n",
    "print(test_data.head())\n"
   ],
   "id": "5a92ba23b87c585d",
   "outputs": [
    {
     "name": "stdout",
     "output_type": "stream",
     "text": [
      "                  Price    return\n",
      "Date                             \n",
      "2025-10-01  6664.919922  0.001312\n",
      "2025-10-02  6731.310059  0.009961\n",
      "2025-10-03  6722.140137 -0.001362\n",
      "2025-10-06  6733.859863  0.001743\n",
      "2025-10-07  6746.140137  0.001824\n",
      "                  Price    return\n",
      "Date                             \n",
      "2025-09-24  6669.790039 -0.003384\n",
      "2025-09-25  6608.189941 -0.009236\n",
      "2025-09-26  6615.379883  0.001088\n",
      "2025-09-29  6661.580078  0.006984\n",
      "2025-09-30  6656.189941 -0.000809\n"
     ]
    }
   ],
   "execution_count": 7
  },
  {
   "metadata": {
    "ExecuteTime": {
     "end_time": "2025-10-08T18:41:49.455563Z",
     "start_time": "2025-10-08T18:41:49.445843Z"
    }
   },
   "cell_type": "code",
   "source": "price_df[\"price_ma_53\"] = price_df[\"Price\"].rolling(window=53).mean()",
   "id": "658afd54f2e6c4e4",
   "outputs": [],
   "execution_count": 11
  },
  {
   "metadata": {
    "ExecuteTime": {
     "end_time": "2025-10-08T18:58:28.695151Z",
     "start_time": "2025-10-08T18:58:28.654173Z"
    }
   },
   "cell_type": "code",
   "source": "price_df[\"price_ma_53\"].shift(53).dropna()",
   "id": "5b9bdc70e6b18067",
   "outputs": [
    {
     "data": {
      "text/plain": [
       "Date\n",
       "2021-03-12    3555.598854\n",
       "2021-03-15    3560.020743\n",
       "2021-03-16    3564.228479\n",
       "2021-03-17    3568.303950\n",
       "2021-03-18    3572.468478\n",
       "                 ...     \n",
       "2025-10-01    5986.072818\n",
       "2025-10-02    5999.050367\n",
       "2025-10-03    6011.481694\n",
       "2025-10-06    6023.770001\n",
       "2025-10-07    6037.374337\n",
       "Name: price_ma_53, Length: 1149, dtype: float64"
      ]
     },
     "execution_count": 13,
     "metadata": {},
     "output_type": "execute_result"
    }
   ],
   "execution_count": 13
  },
  {
   "metadata": {
    "ExecuteTime": {
     "end_time": "2025-10-08T18:59:10.180807Z",
     "start_time": "2025-10-08T18:59:10.098437Z"
    }
   },
   "cell_type": "code",
   "source": "price_df[\"diff\"] = price_df[\"Price\"] - price_df[\"price_ma_53\"]",
   "id": "766820826694821f",
   "outputs": [],
   "execution_count": 14
  },
  {
   "metadata": {
    "ExecuteTime": {
     "end_time": "2025-10-08T18:59:32.791150Z",
     "start_time": "2025-10-08T18:59:32.694555Z"
    }
   },
   "cell_type": "code",
   "source": "price_df[\"diff\"].describe()",
   "id": "8b1984c3a01cb94c",
   "outputs": [
    {
     "data": {
      "text/plain": [
       "count    1202.000000\n",
       "mean       64.127428\n",
       "std       176.626455\n",
       "min      -889.210551\n",
       "25%       -23.852870\n",
       "50%       101.901008\n",
       "75%       187.290769\n",
       "max       407.320064\n",
       "Name: diff, dtype: float64"
      ]
     },
     "execution_count": 17,
     "metadata": {},
     "output_type": "execute_result"
    }
   ],
   "execution_count": 17
  },
  {
   "metadata": {
    "ExecuteTime": {
     "end_time": "2025-10-08T19:07:49.462840Z",
     "start_time": "2025-10-08T19:07:49.088220Z"
    }
   },
   "cell_type": "code",
   "source": "price_df[\"return\"].describe()",
   "id": "fed71330d9a4d8fc",
   "outputs": [
    {
     "data": {
      "text/plain": [
       "count    1253.000000\n",
       "mean        0.000585\n",
       "std         0.010238\n",
       "min        -0.063934\n",
       "25%        -0.004007\n",
       "50%         0.000879\n",
       "75%         0.006371\n",
       "max         0.078116\n",
       "Name: return, dtype: float64"
      ]
     },
     "execution_count": 18,
     "metadata": {},
     "output_type": "execute_result"
    }
   ],
   "execution_count": 18
  },
  {
   "metadata": {},
   "cell_type": "code",
   "outputs": [],
   "execution_count": null,
   "source": "",
   "id": "557dd9198059c4dc"
  }
 ],
 "metadata": {
  "kernelspec": {
   "display_name": "Python 3",
   "language": "python",
   "name": "python3"
  },
  "language_info": {
   "codemirror_mode": {
    "name": "ipython",
    "version": 2
   },
   "file_extension": ".py",
   "mimetype": "text/x-python",
   "name": "python",
   "nbconvert_exporter": "python",
   "pygments_lexer": "ipython2",
   "version": "2.7.6"
  }
 },
 "nbformat": 4,
 "nbformat_minor": 5
}
