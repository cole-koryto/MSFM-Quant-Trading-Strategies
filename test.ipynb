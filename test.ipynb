{
 "cells": [
  {
   "cell_type": "code",
   "execution_count": 1,
   "id": "7a4ab3fb",
   "metadata": {},
   "outputs": [],
   "source": [
    "import pandas as pd\n",
    "from backtester import Backtester"
   ]
  },
  {
   "cell_type": "code",
   "execution_count": 2,
   "id": "e2421182",
   "metadata": {},
   "outputs": [
    {
     "name": "stderr",
     "output_type": "stream",
     "text": [
      "2025-10-16 16:32:40.141056: I metal_plugin/src/device/metal_device.cc:1154] Metal device set to: Apple M1 Pro\n",
      "2025-10-16 16:32:40.141085: I metal_plugin/src/device/metal_device.cc:296] systemMemory: 16.00 GB\n",
      "2025-10-16 16:32:40.141092: I metal_plugin/src/device/metal_device.cc:313] maxCacheSize: 5.33 GB\n",
      "2025-10-16 16:32:40.141118: I tensorflow/core/common_runtime/pluggable_device/pluggable_device_factory.cc:306] Could not identify NUMA node of platform GPU ID 0, defaulting to 0. Your kernel may not have been built with NUMA support.\n",
      "2025-10-16 16:32:40.141130: I tensorflow/core/common_runtime/pluggable_device/pluggable_device_factory.cc:272] Created TensorFlow device (/job:localhost/replica:0/task:0/device:GPU:0 with 0 MB memory) -> physical PluggableDevice (device: 0, name: METAL, pci bus id: <undefined>)\n"
     ]
    },
    {
     "ename": "TypeError",
     "evalue": "Error when deserializing class 'InputLayer' using config={'batch_shape': [None, 33, 1], 'dtype': 'float32', 'sparse': False, 'ragged': False, 'name': 'input_layer'}.\n\nException encountered: Unrecognized keyword arguments: ['batch_shape']",
     "output_type": "error",
     "traceback": [
      "\u001b[31m---------------------------------------------------------------------------\u001b[39m",
      "\u001b[31mTypeError\u001b[39m                                 Traceback (most recent call last)",
      "\u001b[36mCell\u001b[39m\u001b[36m \u001b[39m\u001b[32mIn[2]\u001b[39m\u001b[32m, line 5\u001b[39m\n\u001b[32m      1\u001b[39m ticker_list = [\u001b[33m\"\u001b[39m\u001b[33m6EZ25.CME\u001b[39m\u001b[33m\"\u001b[39m, \u001b[33m\"\u001b[39m\u001b[33m6JZ25.CME\u001b[39m\u001b[33m\"\u001b[39m, \u001b[33m\"\u001b[39m\u001b[33mZWZ25.CBT\u001b[39m\u001b[33m\"\u001b[39m]\n\u001b[32m      3\u001b[39m backtester = Backtester(ticker_list, \u001b[33m\"\u001b[39m\u001b[33mlstm\u001b[39m\u001b[33m\"\u001b[39m, \u001b[32m1_000_000\u001b[39m)\n\u001b[32m----> \u001b[39m\u001b[32m5\u001b[39m result = \u001b[43mbacktester\u001b[49m\u001b[43m.\u001b[49m\u001b[43mbacktest\u001b[49m\u001b[43m(\u001b[49m\u001b[43m)\u001b[49m\n\u001b[32m      6\u001b[39m metrics_df = pd.DataFrame(result[\u001b[33m\"\u001b[39m\u001b[33mmetrics\u001b[39m\u001b[33m\"\u001b[39m], index=[\u001b[32m0\u001b[39m]).T\n\u001b[32m      7\u001b[39m \u001b[38;5;28mprint\u001b[39m(metrics_df)\n",
      "\u001b[36mFile \u001b[39m\u001b[32m~/projects/CME-Trading-Competition-2025/backtester.py:102\u001b[39m, in \u001b[36mBacktester.backtest\u001b[39m\u001b[34m(self)\u001b[39m\n\u001b[32m    100\u001b[39m \u001b[38;5;28;01mdef\u001b[39;00m\u001b[38;5;250m \u001b[39m\u001b[34mbacktest\u001b[39m(\u001b[38;5;28mself\u001b[39m):\n\u001b[32m    101\u001b[39m     \u001b[38;5;66;03m# Combine all ticker data\u001b[39;00m\n\u001b[32m--> \u001b[39m\u001b[32m102\u001b[39m     data = \u001b[38;5;28;43mself\u001b[39;49m\u001b[43m.\u001b[49m\u001b[43mcombine_ticker_dfs\u001b[49m\u001b[43m(\u001b[49m\u001b[43m)\u001b[49m\n\u001b[32m    104\u001b[39m     \u001b[38;5;66;03m# Generate backtest data with weights and initial positions\u001b[39;00m\n\u001b[32m    105\u001b[39m     backtest_data = \u001b[38;5;28mself\u001b[39m.generate_backtest_data(data)\n",
      "\u001b[36mFile \u001b[39m\u001b[32m~/projects/CME-Trading-Competition-2025/backtester.py:20\u001b[39m, in \u001b[36mBacktester.combine_ticker_dfs\u001b[39m\u001b[34m(self)\u001b[39m\n\u001b[32m     17\u001b[39m ticker_df_list = []\n\u001b[32m     19\u001b[39m \u001b[38;5;28;01mfor\u001b[39;00m ticker \u001b[38;5;129;01min\u001b[39;00m \u001b[38;5;28mself\u001b[39m.ticker_list:\n\u001b[32m---> \u001b[39m\u001b[32m20\u001b[39m     predictor = \u001b[43mPredictor\u001b[49m\u001b[43m(\u001b[49m\u001b[43mmodel_type\u001b[49m\u001b[43m=\u001b[49m\u001b[33;43m\"\u001b[39;49m\u001b[33;43mlstm\u001b[39;49m\u001b[33;43m\"\u001b[39;49m\u001b[43m,\u001b[49m\u001b[43m \u001b[49m\u001b[43mticker\u001b[49m\u001b[43m=\u001b[49m\u001b[43mticker\u001b[49m\u001b[43m)\u001b[49m\n\u001b[32m     21\u001b[39m     df_pred_ticker = predictor.generate_predictions()\n\u001b[32m     22\u001b[39m     df_pred_ticker.insert(\u001b[32m0\u001b[39m, \u001b[33m\"\u001b[39m\u001b[33mticker\u001b[39m\u001b[33m\"\u001b[39m, \u001b[38;5;28mself\u001b[39m.ticker)\n",
      "\u001b[36mFile \u001b[39m\u001b[32m~/projects/CME-Trading-Competition-2025/predictor.py:18\u001b[39m, in \u001b[36mPredictor.__init__\u001b[39m\u001b[34m(self, model_type, ticker)\u001b[39m\n\u001b[32m     16\u001b[39m \u001b[38;5;66;03m# Load prediction model for ticker\u001b[39;00m\n\u001b[32m     17\u001b[39m \u001b[38;5;28mself\u001b[39m.model_loader = ModelLoader(model_type, ticker)\n\u001b[32m---> \u001b[39m\u001b[32m18\u001b[39m \u001b[38;5;28mself\u001b[39m.model = \u001b[38;5;28;43mself\u001b[39;49m\u001b[43m.\u001b[49m\u001b[43mmodel_loader\u001b[49m\u001b[43m.\u001b[49m\u001b[43mload_model\u001b[49m\u001b[43m(\u001b[49m\u001b[43m)\u001b[49m\n",
      "\u001b[36mFile \u001b[39m\u001b[32m~/projects/CME-Trading-Competition-2025/model_loader.py:15\u001b[39m, in \u001b[36mModelLoader.load_model\u001b[39m\u001b[34m(self)\u001b[39m\n\u001b[32m     12\u001b[39m     model = tf.keras.models.load_model(model_path, \u001b[38;5;28mcompile\u001b[39m=\u001b[38;5;28;01mFalse\u001b[39;00m)\n\u001b[32m     13\u001b[39m \u001b[38;5;28;01mexcept\u001b[39;00m \u001b[38;5;167;01mTypeError\u001b[39;00m:\n\u001b[32m     14\u001b[39m     \u001b[38;5;66;03m# Fallback: load without validation\u001b[39;00m\n\u001b[32m---> \u001b[39m\u001b[32m15\u001b[39m     model = \u001b[43mtf\u001b[49m\u001b[43m.\u001b[49m\u001b[43mkeras\u001b[49m\u001b[43m.\u001b[49m\u001b[43mmodels\u001b[49m\u001b[43m.\u001b[49m\u001b[43mload_model\u001b[49m\u001b[43m(\u001b[49m\u001b[43mmodel_path\u001b[49m\u001b[43m,\u001b[49m\u001b[43m \u001b[49m\u001b[38;5;28;43mcompile\u001b[39;49m\u001b[43m=\u001b[49m\u001b[38;5;28;43;01mFalse\u001b[39;49;00m\u001b[43m,\u001b[49m\u001b[43m \u001b[49m\u001b[43msafe_mode\u001b[49m\u001b[43m=\u001b[49m\u001b[38;5;28;43;01mFalse\u001b[39;49;00m\u001b[43m)\u001b[49m\n\u001b[32m     16\u001b[39m \u001b[38;5;28;01mreturn\u001b[39;00m model\n",
      "\u001b[36mFile \u001b[39m\u001b[32m~/projects/CME-Trading-Competition-2025/.venv/lib/python3.11/site-packages/keras/src/saving/saving_api.py:262\u001b[39m, in \u001b[36mload_model\u001b[39m\u001b[34m(filepath, custom_objects, compile, safe_mode, **kwargs)\u001b[39m\n\u001b[32m    254\u001b[39m     \u001b[38;5;28;01mreturn\u001b[39;00m saving_lib.load_model(\n\u001b[32m    255\u001b[39m         filepath,\n\u001b[32m    256\u001b[39m         custom_objects=custom_objects,\n\u001b[32m    257\u001b[39m         \u001b[38;5;28mcompile\u001b[39m=\u001b[38;5;28mcompile\u001b[39m,\n\u001b[32m    258\u001b[39m         safe_mode=safe_mode,\n\u001b[32m    259\u001b[39m     )\n\u001b[32m    261\u001b[39m \u001b[38;5;66;03m# Legacy case.\u001b[39;00m\n\u001b[32m--> \u001b[39m\u001b[32m262\u001b[39m \u001b[38;5;28;01mreturn\u001b[39;00m \u001b[43mlegacy_sm_saving_lib\u001b[49m\u001b[43m.\u001b[49m\u001b[43mload_model\u001b[49m\u001b[43m(\u001b[49m\n\u001b[32m    263\u001b[39m \u001b[43m    \u001b[49m\u001b[43mfilepath\u001b[49m\u001b[43m,\u001b[49m\u001b[43m \u001b[49m\u001b[43mcustom_objects\u001b[49m\u001b[43m=\u001b[49m\u001b[43mcustom_objects\u001b[49m\u001b[43m,\u001b[49m\u001b[43m \u001b[49m\u001b[38;5;28;43mcompile\u001b[39;49m\u001b[43m=\u001b[49m\u001b[38;5;28;43mcompile\u001b[39;49m\u001b[43m,\u001b[49m\u001b[43m \u001b[49m\u001b[43m*\u001b[49m\u001b[43m*\u001b[49m\u001b[43mkwargs\u001b[49m\n\u001b[32m    264\u001b[39m \u001b[43m\u001b[49m\u001b[43m)\u001b[49m\n",
      "\u001b[36mFile \u001b[39m\u001b[32m~/projects/CME-Trading-Competition-2025/.venv/lib/python3.11/site-packages/keras/src/utils/traceback_utils.py:70\u001b[39m, in \u001b[36mfilter_traceback.<locals>.error_handler\u001b[39m\u001b[34m(*args, **kwargs)\u001b[39m\n\u001b[32m     67\u001b[39m     filtered_tb = _process_traceback_frames(e.__traceback__)\n\u001b[32m     68\u001b[39m     \u001b[38;5;66;03m# To get the full stack trace, call:\u001b[39;00m\n\u001b[32m     69\u001b[39m     \u001b[38;5;66;03m# `tf.debugging.disable_traceback_filtering()`\u001b[39;00m\n\u001b[32m---> \u001b[39m\u001b[32m70\u001b[39m     \u001b[38;5;28;01mraise\u001b[39;00m e.with_traceback(filtered_tb) \u001b[38;5;28;01mfrom\u001b[39;00m\u001b[38;5;250m \u001b[39m\u001b[38;5;28;01mNone\u001b[39;00m\n\u001b[32m     71\u001b[39m \u001b[38;5;28;01mfinally\u001b[39;00m:\n\u001b[32m     72\u001b[39m     \u001b[38;5;28;01mdel\u001b[39;00m filtered_tb\n",
      "\u001b[36mFile \u001b[39m\u001b[32m~/projects/CME-Trading-Competition-2025/.venv/lib/python3.11/site-packages/keras/src/engine/base_layer.py:870\u001b[39m, in \u001b[36mLayer.from_config\u001b[39m\u001b[34m(cls, config)\u001b[39m\n\u001b[32m    868\u001b[39m     \u001b[38;5;28;01mreturn\u001b[39;00m \u001b[38;5;28mcls\u001b[39m(**config)\n\u001b[32m    869\u001b[39m \u001b[38;5;28;01mexcept\u001b[39;00m \u001b[38;5;167;01mException\u001b[39;00m \u001b[38;5;28;01mas\u001b[39;00m e:\n\u001b[32m--> \u001b[39m\u001b[32m870\u001b[39m     \u001b[38;5;28;01mraise\u001b[39;00m \u001b[38;5;167;01mTypeError\u001b[39;00m(\n\u001b[32m    871\u001b[39m         \u001b[33mf\u001b[39m\u001b[33m\"\u001b[39m\u001b[33mError when deserializing class \u001b[39m\u001b[33m'\u001b[39m\u001b[38;5;132;01m{\u001b[39;00m\u001b[38;5;28mcls\u001b[39m.\u001b[34m__name__\u001b[39m\u001b[38;5;132;01m}\u001b[39;00m\u001b[33m'\u001b[39m\u001b[33m using \u001b[39m\u001b[33m\"\u001b[39m\n\u001b[32m    872\u001b[39m         \u001b[33mf\u001b[39m\u001b[33m\"\u001b[39m\u001b[33mconfig=\u001b[39m\u001b[38;5;132;01m{\u001b[39;00mconfig\u001b[38;5;132;01m}\u001b[39;00m\u001b[33m.\u001b[39m\u001b[38;5;130;01m\\n\u001b[39;00m\u001b[38;5;130;01m\\n\u001b[39;00m\u001b[33mException encountered: \u001b[39m\u001b[38;5;132;01m{\u001b[39;00me\u001b[38;5;132;01m}\u001b[39;00m\u001b[33m\"\u001b[39m\n\u001b[32m    873\u001b[39m     )\n",
      "\u001b[31mTypeError\u001b[39m: Error when deserializing class 'InputLayer' using config={'batch_shape': [None, 33, 1], 'dtype': 'float32', 'sparse': False, 'ragged': False, 'name': 'input_layer'}.\n\nException encountered: Unrecognized keyword arguments: ['batch_shape']"
     ]
    }
   ],
   "source": [
    "ticker_list = [\"6EZ25.CME\", \"6JZ25.CME\", \"ZWZ25.CBT\"]\n",
    "\n",
    "backtester = Backtester(ticker_list, \"lstm\", 1_000_000)\n",
    "\n",
    "result = backtester.backtest()\n",
    "metrics_df = pd.DataFrame(result[\"metrics\"], index=[0]).T\n",
    "print(metrics_df)"
   ]
  },
  {
   "cell_type": "code",
   "execution_count": null,
   "id": "5518ad14",
   "metadata": {},
   "outputs": [],
   "source": []
  }
 ],
 "metadata": {
  "kernelspec": {
   "display_name": ".venv (3.11.9)",
   "language": "python",
   "name": "python3"
  },
  "language_info": {
   "codemirror_mode": {
    "name": "ipython",
    "version": 3
   },
   "file_extension": ".py",
   "mimetype": "text/x-python",
   "name": "python",
   "nbconvert_exporter": "python",
   "pygments_lexer": "ipython3",
   "version": "3.11.9"
  }
 },
 "nbformat": 4,
 "nbformat_minor": 5
}
