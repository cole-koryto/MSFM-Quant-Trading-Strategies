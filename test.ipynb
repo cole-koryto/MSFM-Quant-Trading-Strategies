{
 "cells": [
  {
   "cell_type": "code",
   "execution_count": 1,
   "id": "7a4ab3fb",
   "metadata": {},
   "outputs": [],
   "source": [
    "import pandas as pd\n",
    "from backtester import Backtester"
   ]
  },
  {
   "cell_type": "code",
   "execution_count": 2,
   "id": "e2421182",
   "metadata": {},
   "outputs": [
    {
     "name": "stderr",
     "output_type": "stream",
     "text": [
      "2025-10-16 17:23:55.890998: I metal_plugin/src/device/metal_device.cc:1154] Metal device set to: Apple M1 Pro\n",
      "2025-10-16 17:23:55.891032: I metal_plugin/src/device/metal_device.cc:296] systemMemory: 16.00 GB\n",
      "2025-10-16 17:23:55.891038: I metal_plugin/src/device/metal_device.cc:313] maxCacheSize: 5.33 GB\n",
      "2025-10-16 17:23:55.891071: I tensorflow/core/common_runtime/pluggable_device/pluggable_device_factory.cc:306] Could not identify NUMA node of platform GPU ID 0, defaulting to 0. Your kernel may not have been built with NUMA support.\n",
      "2025-10-16 17:23:55.891086: I tensorflow/core/common_runtime/pluggable_device/pluggable_device_factory.cc:272] Created TensorFlow device (/job:localhost/replica:0/task:0/device:GPU:0 with 0 MB memory) -> physical PluggableDevice (device: 0, name: METAL, pci bus id: <undefined>)\n"
     ]
    },
    {
     "name": "stdout",
     "output_type": "stream",
     "text": [
      "Model: \"sequential\"\n",
      "_________________________________________________________________\n",
      " Layer (type)                Output Shape              Param #   \n",
      "=================================================================\n",
      " lstm (LSTM)                 (None, 50)                10400     \n",
      "                                                                 \n",
      " dense (Dense)               (None, 5)                 255       \n",
      "                                                                 \n",
      "=================================================================\n",
      "Total params: 10655 (41.62 KB)\n",
      "Trainable params: 10655 (41.62 KB)\n",
      "Non-trainable params: 0 (0.00 Byte)\n",
      "_________________________________________________________________\n",
      "Loading data...\n"
     ]
    },
    {
     "ename": "AttributeError",
     "evalue": "'DataFrame' object has no attribute 'reshape'",
     "output_type": "error",
     "traceback": [
      "\u001b[31m---------------------------------------------------------------------------\u001b[39m",
      "\u001b[31mAttributeError\u001b[39m                            Traceback (most recent call last)",
      "\u001b[32m/var/folders/jl/3sjys_h96yq42s37n29y4dfr0000gn/T/ipykernel_59301/1051049326.py\u001b[39m in \u001b[36m?\u001b[39m\u001b[34m()\u001b[39m\n\u001b[32m      1\u001b[39m ticker_list = [\u001b[33m\"6EZ25.CME\"\u001b[39m, \u001b[33m\"6JZ25.CME\"\u001b[39m, \u001b[33m\"ZWZ25.CBT\"\u001b[39m]\n\u001b[32m      2\u001b[39m \n\u001b[32m      3\u001b[39m backtester = Backtester(ticker_list, \u001b[33m\"lstm\"\u001b[39m, \u001b[32m1_000_000\u001b[39m)\n\u001b[32m      4\u001b[39m \n\u001b[32m----> \u001b[39m\u001b[32m5\u001b[39m result = backtester.backtest()\n\u001b[32m      6\u001b[39m metrics_df = pd.DataFrame(result[\u001b[33m\"metrics\"\u001b[39m], index=[\u001b[32m0\u001b[39m]).T\n\u001b[32m      7\u001b[39m print(metrics_df)\n",
      "\u001b[32m~/projects/CME-Trading-Competition-2025/backtester.py\u001b[39m in \u001b[36m?\u001b[39m\u001b[34m(self)\u001b[39m\n\u001b[32m    100\u001b[39m     \u001b[38;5;28;01mdef\u001b[39;00m backtest(self):\n\u001b[32m    101\u001b[39m         \u001b[38;5;66;03m# Combine all ticker data\u001b[39;00m\n\u001b[32m--> \u001b[39m\u001b[32m102\u001b[39m         data = self.combine_ticker_dfs()\n\u001b[32m    103\u001b[39m \n\u001b[32m    104\u001b[39m         \u001b[38;5;66;03m# Generate backtest data with weights and initial positions\u001b[39;00m\n\u001b[32m    105\u001b[39m         backtest_data = self.generate_backtest_data(data)\n",
      "\u001b[32m~/projects/CME-Trading-Competition-2025/backtester.py\u001b[39m in \u001b[36m?\u001b[39m\u001b[34m(self)\u001b[39m\n\u001b[32m     17\u001b[39m         ticker_df_list = []\n\u001b[32m     18\u001b[39m \n\u001b[32m     19\u001b[39m         \u001b[38;5;28;01mfor\u001b[39;00m ticker \u001b[38;5;28;01min\u001b[39;00m self.ticker_list:\n\u001b[32m     20\u001b[39m             predictor = Predictor(model_type=\u001b[33m\"lstm\"\u001b[39m, ticker=ticker)\n\u001b[32m---> \u001b[39m\u001b[32m21\u001b[39m             df_pred_ticker = predictor.generate_predictions()\n\u001b[32m     22\u001b[39m             df_pred_ticker.insert(\u001b[32m0\u001b[39m, \u001b[33m\"ticker\"\u001b[39m, self.ticker)\n\u001b[32m     23\u001b[39m             ticker_df_list.append(df_pred_ticker)\n\u001b[32m     24\u001b[39m \n",
      "\u001b[32m~/projects/CME-Trading-Competition-2025/predictor.py\u001b[39m in \u001b[36m?\u001b[39m\u001b[34m(self)\u001b[39m\n\u001b[32m     50\u001b[39m     \u001b[38;5;28;01mdef\u001b[39;00m generate_predictions(self):\n\u001b[32m     51\u001b[39m         df_pred = self.price_data.copy()\n\u001b[32m     52\u001b[39m \n\u001b[32m     53\u001b[39m         model = self.model\n\u001b[32m---> \u001b[39m\u001b[32m54\u001b[39m         X = self.prepare_data()\n\u001b[32m     55\u001b[39m         print(X)\n\u001b[32m     56\u001b[39m \n\u001b[32m     57\u001b[39m         \u001b[38;5;28;01mif\u001b[39;00m self.model_type == \u001b[33m\"lstm\"\u001b[39m:\n",
      "\u001b[32m~/projects/CME-Trading-Competition-2025/predictor.py\u001b[39m in \u001b[36m?\u001b[39m\u001b[34m(self)\u001b[39m\n\u001b[32m     33\u001b[39m         num_features = input_shape[\u001b[32m2\u001b[39m]\n\u001b[32m     34\u001b[39m \n\u001b[32m     35\u001b[39m         forecaster = Forecaster(self.ticker)\n\u001b[32m     36\u001b[39m         forecaster.generate_data(lookback=lookback)\n\u001b[32m---> \u001b[39m\u001b[32m37\u001b[39m         data = forecaster.x_train.reshape(\u001b[32m1\u001b[39m, num_features, \u001b[32m1\u001b[39m) \u001b[38;5;66;03m# no test-size provided\u001b[39;00m\n\u001b[32m     38\u001b[39m         print(data.shape)\n\u001b[32m     39\u001b[39m \n\u001b[32m     40\u001b[39m         scaler = MinMaxScaler(feature_range=(\u001b[32m0\u001b[39m, \u001b[32m1\u001b[39m))\n",
      "\u001b[32m~/projects/CME-Trading-Competition-2025/.venv/lib/python3.11/site-packages/pandas/core/generic.py\u001b[39m in \u001b[36m?\u001b[39m\u001b[34m(self, name)\u001b[39m\n\u001b[32m   6317\u001b[39m             \u001b[38;5;28;01mand\u001b[39;00m name \u001b[38;5;28;01mnot\u001b[39;00m \u001b[38;5;28;01min\u001b[39;00m self._accessors\n\u001b[32m   6318\u001b[39m             \u001b[38;5;28;01mand\u001b[39;00m self._info_axis._can_hold_identifiers_and_holds_name(name)\n\u001b[32m   6319\u001b[39m         ):\n\u001b[32m   6320\u001b[39m             \u001b[38;5;28;01mreturn\u001b[39;00m self[name]\n\u001b[32m-> \u001b[39m\u001b[32m6321\u001b[39m         \u001b[38;5;28;01mreturn\u001b[39;00m object.__getattribute__(self, name)\n",
      "\u001b[31mAttributeError\u001b[39m: 'DataFrame' object has no attribute 'reshape'"
     ]
    }
   ],
   "source": [
    "ticker_list = [\"6EZ25.CME\", \"6JZ25.CME\", \"ZWZ25.CBT\"]\n",
    "\n",
    "backtester = Backtester(ticker_list, \"lstm\", 1_000_000)\n",
    "\n",
    "result = backtester.backtest()\n",
    "metrics_df = pd.DataFrame(result[\"metrics\"], index=[0]).T\n",
    "print(metrics_df)"
   ]
  }
 ],
 "metadata": {
  "kernelspec": {
   "display_name": ".venv (3.11.9)",
   "language": "python",
   "name": "python3"
  },
  "language_info": {
   "codemirror_mode": {
    "name": "ipython",
    "version": 3
   },
   "file_extension": ".py",
   "mimetype": "text/x-python",
   "name": "python",
   "nbconvert_exporter": "python",
   "pygments_lexer": "ipython3",
   "version": "3.11.9"
  }
 },
 "nbformat": 4,
 "nbformat_minor": 5
}
