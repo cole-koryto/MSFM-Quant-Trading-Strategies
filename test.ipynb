{
 "cells": [
  {
   "cell_type": "code",
   "execution_count": null,
   "id": "7a4ab3fb",
   "metadata": {},
   "outputs": [],
   "source": []
  },
  {
   "cell_type": "code",
   "execution_count": 2,
   "id": "e2421182",
   "metadata": {},
   "outputs": [
    {
     "name": "stdout",
     "output_type": "stream",
     "text": [
      "Loading data...\n",
      "Loading data...\n",
      "Loading data...\n",
      "DatetimeIndex(['2021-01-15', '2021-01-19', '2021-01-20', '2021-01-21',\n",
      "               '2021-01-22', '2021-01-25', '2021-01-26', '2021-01-27',\n",
      "               '2021-01-28', '2021-01-29',\n",
      "               ...\n",
      "               '2025-10-01', '2025-10-02', '2025-10-03', '2025-10-06',\n",
      "               '2025-10-07', '2025-10-08', '2025-10-09', '2025-10-10',\n",
      "               '2025-10-13', '2025-10-14'],\n",
      "              dtype='datetime64[ns]', name='Date', length=2924, freq=None)\n"
     ]
    },
    {
     "name": "stderr",
     "output_type": "stream",
     "text": [
      "/Users/adithsrinivasan/projects/CME-Trading-Competition-2025/dollar_neutral_strategy.py:35: FutureWarning: Setting an item of incompatible dtype is deprecated and will raise an error in a future version of pandas. Value '[-0.4613449 -0.5386551]' has dtype incompatible with int64, please explicitly cast to a compatible dtype first.\n",
      "  backtest_df.loc[(backtest_df.index == date) & (backtest_df[\"ticker\"].isin(short_tickers)), \"weight\"] = (\n"
     ]
    },
    {
     "ename": "AttributeError",
     "evalue": "'NoneType' object has no attribute 'index'",
     "output_type": "error",
     "traceback": [
      "\u001b[31m---------------------------------------------------------------------------\u001b[39m",
      "\u001b[31mAttributeError\u001b[39m                            Traceback (most recent call last)",
      "\u001b[36mCell\u001b[39m\u001b[36m \u001b[39m\u001b[32mIn[2]\u001b[39m\u001b[32m, line 5\u001b[39m\n\u001b[32m      1\u001b[39m ticker_list = [\u001b[33m\"\u001b[39m\u001b[33m6EZ25.CME\u001b[39m\u001b[33m\"\u001b[39m, \u001b[33m\"\u001b[39m\u001b[33m6JZ25.CME\u001b[39m\u001b[33m\"\u001b[39m, \u001b[33m\"\u001b[39m\u001b[33mZWZ25.CBT\u001b[39m\u001b[33m\"\u001b[39m]\n\u001b[32m      3\u001b[39m backtester = Backtester(ticker_list, \u001b[33m\"\u001b[39m\u001b[33mxgb\u001b[39m\u001b[33m\"\u001b[39m, \u001b[33m\"\u001b[39m\u001b[33mdollar-neutral\u001b[39m\u001b[33m\"\u001b[39m, \u001b[32m1_000_000\u001b[39m)\n\u001b[32m----> \u001b[39m\u001b[32m5\u001b[39m result = \u001b[43mbacktester\u001b[49m\u001b[43m.\u001b[49m\u001b[43mbacktest\u001b[49m\u001b[43m(\u001b[49m\u001b[43m)\u001b[49m\n\u001b[32m      6\u001b[39m metrics_df = pd.DataFrame(result[\u001b[33m\"\u001b[39m\u001b[33mmetrics\u001b[39m\u001b[33m\"\u001b[39m], index=[\u001b[32m0\u001b[39m]).T\n\u001b[32m      7\u001b[39m \u001b[38;5;28mprint\u001b[39m(metrics_df)\n",
      "\u001b[36mFile \u001b[39m\u001b[32m~/projects/CME-Trading-Competition-2025/backtester.py:108\u001b[39m, in \u001b[36mBacktester.backtest\u001b[39m\u001b[34m(self)\u001b[39m\n\u001b[32m    106\u001b[39m \u001b[38;5;28mprint\u001b[39m(data.index)\n\u001b[32m    107\u001b[39m backtest_data = \u001b[38;5;28mself\u001b[39m.generate_backtest_data(data)\n\u001b[32m--> \u001b[39m\u001b[32m108\u001b[39m \u001b[38;5;28mprint\u001b[39m(\u001b[43mbacktest_data\u001b[49m\u001b[43m.\u001b[49m\u001b[43mindex\u001b[49m)\n\u001b[32m    109\u001b[39m portfolio_value = \u001b[38;5;28mself\u001b[39m.calculate_portfolio_value(backtest_data)\n\u001b[32m    110\u001b[39m portfolio_metrics = \u001b[38;5;28mself\u001b[39m.calculate_portfolio_metrics(portfolio_value)\n",
      "\u001b[31mAttributeError\u001b[39m: 'NoneType' object has no attribute 'index'"
     ]
    }
   ],
   "source": [
    "ticker_list = [\"6EZ25.CME\", \"6JZ25.CME\", \"ZWZ25.CBT\"]\n",
    "\n",
    "backtester = Backtester(ticker_list, \"xgb\", \"dollar-neutral\", 1_000_000)\n",
    "\n",
    "result = backtester.backtest()\n",
    "metrics_df = pd.DataFrame(result[\"metrics\"], index=[0]).T\n",
    "print(metrics_df)"
   ]
  }
 ],
 "metadata": {
  "kernelspec": {
   "display_name": ".venv (3.11.9)",
   "language": "python",
   "name": "python3"
  },
  "language_info": {
   "codemirror_mode": {
    "name": "ipython",
    "version": 3
   },
   "file_extension": ".py",
   "mimetype": "text/x-python",
   "name": "python",
   "nbconvert_exporter": "python",
   "pygments_lexer": "ipython3",
   "version": "3.11.9"
  }
 },
 "nbformat": 4,
 "nbformat_minor": 5
}
